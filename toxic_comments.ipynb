{
 "cells": [
  {
   "cell_type": "code",
   "execution_count": 1,
   "id": "a6b1da4c",
   "metadata": {},
   "outputs": [],
   "source": [
    "import numpy as np\n",
    "import pandas as pd\n",
    "import nltk\n",
    "from nltk.stem import SnowballStemmer\n",
    "import matplotlib.pyplot as plt\n",
    "from sklearn.model_selection import train_test_split, GridSearchCV\n",
    "from sklearn.feature_extraction.text import TfidfVectorizer\n",
    "from sklearn.linear_model import LogisticRegression\n",
    "from sklearn.pipeline import Pipeline\n",
    "from sklearn.metrics import precision_score\n",
    "from sklearn.metrics import recall_score\n",
    "from sklearn.metrics import precision_recall_curve, plot_precision_recall_curve\n",
    "from nltk.tokenize import word_tokenize\n",
    "from nltk.corpus import stopwords\n",
    "import string"
   ]
  },
  {
   "cell_type": "code",
   "execution_count": 2,
   "id": "70b2c322",
   "metadata": {},
   "outputs": [],
   "source": [
    "data = pd.read_csv('.\\data\\labeled.csv')"
   ]
  },
  {
   "cell_type": "code",
   "execution_count": 3,
   "id": "c99e747f",
   "metadata": {},
   "outputs": [
    {
     "data": {
      "text/html": [
       "<div>\n",
       "<style scoped>\n",
       "    .dataframe tbody tr th:only-of-type {\n",
       "        vertical-align: middle;\n",
       "    }\n",
       "\n",
       "    .dataframe tbody tr th {\n",
       "        vertical-align: top;\n",
       "    }\n",
       "\n",
       "    .dataframe thead th {\n",
       "        text-align: right;\n",
       "    }\n",
       "</style>\n",
       "<table border=\"1\" class=\"dataframe\">\n",
       "  <thead>\n",
       "    <tr style=\"text-align: right;\">\n",
       "      <th></th>\n",
       "      <th>comment</th>\n",
       "      <th>toxic</th>\n",
       "    </tr>\n",
       "  </thead>\n",
       "  <tbody>\n",
       "    <tr>\n",
       "      <th>0</th>\n",
       "      <td>Верблюдов-то за что? Дебилы, бл...\\n</td>\n",
       "      <td>1.0</td>\n",
       "    </tr>\n",
       "    <tr>\n",
       "      <th>1</th>\n",
       "      <td>Хохлы, это отдушина затюканого россиянина, мол...</td>\n",
       "      <td>1.0</td>\n",
       "    </tr>\n",
       "    <tr>\n",
       "      <th>2</th>\n",
       "      <td>Собаке - собачья смерть\\n</td>\n",
       "      <td>1.0</td>\n",
       "    </tr>\n",
       "    <tr>\n",
       "      <th>3</th>\n",
       "      <td>Страницу обнови, дебил. Это тоже не оскорблени...</td>\n",
       "      <td>1.0</td>\n",
       "    </tr>\n",
       "    <tr>\n",
       "      <th>4</th>\n",
       "      <td>тебя не убедил 6-страничный пдф в том, что Скр...</td>\n",
       "      <td>1.0</td>\n",
       "    </tr>\n",
       "  </tbody>\n",
       "</table>\n",
       "</div>"
      ],
      "text/plain": [
       "                                             comment  toxic\n",
       "0               Верблюдов-то за что? Дебилы, бл...\\n    1.0\n",
       "1  Хохлы, это отдушина затюканого россиянина, мол...    1.0\n",
       "2                          Собаке - собачья смерть\\n    1.0\n",
       "3  Страницу обнови, дебил. Это тоже не оскорблени...    1.0\n",
       "4  тебя не убедил 6-страничный пдф в том, что Скр...    1.0"
      ]
     },
     "execution_count": 3,
     "metadata": {},
     "output_type": "execute_result"
    }
   ],
   "source": [
    "data.head()"
   ]
  },
  {
   "cell_type": "markdown",
   "id": "f48a556b",
   "metadata": {},
   "source": [
    "Toxic column isn't have to be float. We can have it as int."
   ]
  },
  {
   "cell_type": "code",
   "execution_count": 4,
   "id": "f82179b9",
   "metadata": {},
   "outputs": [],
   "source": [
    "data.toxic = data.toxic.apply(int)"
   ]
  },
  {
   "cell_type": "code",
   "execution_count": 5,
   "id": "0586641f",
   "metadata": {},
   "outputs": [
    {
     "data": {
      "text/html": [
       "<div>\n",
       "<style scoped>\n",
       "    .dataframe tbody tr th:only-of-type {\n",
       "        vertical-align: middle;\n",
       "    }\n",
       "\n",
       "    .dataframe tbody tr th {\n",
       "        vertical-align: top;\n",
       "    }\n",
       "\n",
       "    .dataframe thead th {\n",
       "        text-align: right;\n",
       "    }\n",
       "</style>\n",
       "<table border=\"1\" class=\"dataframe\">\n",
       "  <thead>\n",
       "    <tr style=\"text-align: right;\">\n",
       "      <th></th>\n",
       "      <th>comment</th>\n",
       "      <th>toxic</th>\n",
       "    </tr>\n",
       "  </thead>\n",
       "  <tbody>\n",
       "    <tr>\n",
       "      <th>0</th>\n",
       "      <td>Верблюдов-то за что? Дебилы, бл...\\n</td>\n",
       "      <td>1</td>\n",
       "    </tr>\n",
       "    <tr>\n",
       "      <th>1</th>\n",
       "      <td>Хохлы, это отдушина затюканого россиянина, мол...</td>\n",
       "      <td>1</td>\n",
       "    </tr>\n",
       "    <tr>\n",
       "      <th>2</th>\n",
       "      <td>Собаке - собачья смерть\\n</td>\n",
       "      <td>1</td>\n",
       "    </tr>\n",
       "    <tr>\n",
       "      <th>3</th>\n",
       "      <td>Страницу обнови, дебил. Это тоже не оскорблени...</td>\n",
       "      <td>1</td>\n",
       "    </tr>\n",
       "    <tr>\n",
       "      <th>4</th>\n",
       "      <td>тебя не убедил 6-страничный пдф в том, что Скр...</td>\n",
       "      <td>1</td>\n",
       "    </tr>\n",
       "  </tbody>\n",
       "</table>\n",
       "</div>"
      ],
      "text/plain": [
       "                                             comment  toxic\n",
       "0               Верблюдов-то за что? Дебилы, бл...\\n      1\n",
       "1  Хохлы, это отдушина затюканого россиянина, мол...      1\n",
       "2                          Собаке - собачья смерть\\n      1\n",
       "3  Страницу обнови, дебил. Это тоже не оскорблени...      1\n",
       "4  тебя не убедил 6-страничный пдф в том, что Скр...      1"
      ]
     },
     "execution_count": 5,
     "metadata": {},
     "output_type": "execute_result"
    }
   ],
   "source": [
    "data.head()"
   ]
  },
  {
   "cell_type": "markdown",
   "id": "7da56d0b",
   "metadata": {},
   "source": [
    "Let us see the distribution of the dataset"
   ]
  },
  {
   "cell_type": "code",
   "execution_count": 6,
   "id": "5e0c2ea7",
   "metadata": {
    "scrolled": true
   },
   "outputs": [
    {
     "data": {
      "text/plain": [
       "<AxesSubplot:>"
      ]
     },
     "execution_count": 6,
     "metadata": {},
     "output_type": "execute_result"
    },
    {
     "data": {
      "image/png": "[encoded data removed]",
      "text/plain": [
       "<Figure size 432x288 with 1 Axes>"
      ]
     },
     "metadata": {
      "needs_background": "light"
     },
     "output_type": "display_data"
    }
   ],
   "source": [
    "data.toxic.hist()"
   ]
  },
  {
   "cell_type": "markdown",
   "id": "df1ce34f",
   "metadata": {},
   "source": [
    "There are twice as many non-toxic ones as toxic."
   ]
  },
  {
   "cell_type": "markdown",
   "id": "62bad439",
   "metadata": {},
   "source": [
    "Then we've got to make test dataset"
   ]
  },
  {
   "cell_type": "markdown",
   "id": "05044d54",
   "metadata": {},
   "source": [
    "Let's make it from our data with using train_test_split func."
   ]
  },
  {
   "cell_type": "code",
   "execution_count": 7,
   "id": "8b91a57e",
   "metadata": {},
   "outputs": [],
   "source": [
    "data_train, data_test = train_test_split(data, random_state=0)"
   ]
  },
  {
   "cell_type": "code",
   "execution_count": 8,
   "id": "041f5814",
   "metadata": {},
   "outputs": [
    {
     "data": {
      "text/plain": [
       "(10809, 2)"
      ]
     },
     "execution_count": 8,
     "metadata": {},
     "output_type": "execute_result"
    }
   ],
   "source": [
    "data_train.shape"
   ]
  },
  {
   "cell_type": "code",
   "execution_count": 9,
   "id": "c0295834",
   "metadata": {},
   "outputs": [
    {
     "data": {
      "text/plain": [
       "(3603, 2)"
      ]
     },
     "execution_count": 9,
     "metadata": {},
     "output_type": "execute_result"
    }
   ],
   "source": [
    "data_test.shape"
   ]
  },
  {
   "cell_type": "markdown",
   "id": "b76aa4b3",
   "metadata": {},
   "source": [
    "Here we've got to make sure that the distribution of our 'data_test' is the same as the distribution of 'data_train'"
   ]
  },
  {
   "cell_type": "code",
   "execution_count": 10,
   "id": "9fec9b34",
   "metadata": {},
   "outputs": [
    {
     "data": {
      "text/plain": [
       "0    7183\n",
       "1    3626\n",
       "Name: toxic, dtype: int64"
      ]
     },
     "execution_count": 10,
     "metadata": {},
     "output_type": "execute_result"
    }
   ],
   "source": [
    "data_train.toxic.value_counts()"
   ]
  },
  {
   "cell_type": "code",
   "execution_count": 11,
   "id": "f2da4acc",
   "metadata": {},
   "outputs": [
    {
     "data": {
      "text/plain": [
       "0    2403\n",
       "1    1200\n",
       "Name: toxic, dtype: int64"
      ]
     },
     "execution_count": 11,
     "metadata": {},
     "output_type": "execute_result"
    }
   ],
   "source": [
    "data_test.toxic.value_counts()"
   ]
  },
  {
   "cell_type": "markdown",
   "id": "bf92f381",
   "metadata": {},
   "source": [
    "Almost the same:) "
   ]
  },
  {
   "cell_type": "markdown",
   "id": "69e61040",
   "metadata": {},
   "source": [
    "# Logistic regression is our tool today"
   ]
  },
  {
   "cell_type": "markdown",
   "id": "30877082",
   "metadata": {},
   "source": [
    "Here we need some text preprocessing"
   ]
  },
  {
   "cell_type": "markdown",
   "id": "bcf964ba",
   "metadata": {},
   "source": [
    "#### Tokenizing"
   ]
  },
  {
   "cell_type": "code",
   "execution_count": 12,
   "id": "179f76c3",
   "metadata": {},
   "outputs": [],
   "source": [
    "SnowBall = SnowballStemmer(language=\"russian\")\n",
    "Rus_stopwords = stopwords.words(\"russian\")\n",
    "\n",
    "def tokenize_and_stem_sentence(sentence):\n",
    "    tokens = word_tokenize(sentence, language=\"russian\")\n",
    "    tokens_without_punc = [i for i in tokens if i not in string.punctuation]\n",
    "    tokens_without_punc_and_stopwords = [i for i in tokens_without_punc if i not in Rus_stopwords]\n",
    "    stemmed = [SnowBall.stem(i) for i in tokens_without_punc_and_stopwords]\n",
    "    return stemmed"
   ]
  },
  {
   "cell_type": "code",
   "execution_count": 13,
   "id": "5c9dc771",
   "metadata": {},
   "outputs": [],
   "source": [
    "sentence_example = data.iloc[1].comment\n",
    "tokens = word_tokenize(sentence_example, language = \"russian\")\n",
    "tokens_without_punc = [i for i in tokens if i not in string.punctuation]\n",
    "tokens_without_punc_and_stopwords = [i for i in tokens_without_punc if i not in stopwords.words(\"russian\")]\n",
    "SnowBall = SnowballStemmer(language=\"russian\")\n",
    "stemmed_tokens = [SnowBall.stem(i) for i in tokens_without_punc_and_stopwords]"
   ]
  },
  {
   "cell_type": "code",
   "execution_count": 14,
   "id": "75d281cc",
   "metadata": {},
   "outputs": [],
   "source": [
    "vectorizer = TfidfVectorizer(tokenizer=lambda x: tokenize_and_stem_sentence(x))"
   ]
  },
  {
   "cell_type": "code",
   "execution_count": 15,
   "id": "0b0a2773",
   "metadata": {},
   "outputs": [],
   "source": [
    "features = vectorizer.fit_transform(data_train.comment)"
   ]
  },
  {
   "cell_type": "markdown",
   "id": "e9384c19",
   "metadata": {},
   "source": [
    "It's time for LOGREG :)"
   ]
  },
  {
   "cell_type": "code",
   "execution_count": 16,
   "id": "ec0c9821",
   "metadata": {},
   "outputs": [],
   "source": [
    "model = LogisticRegression(random_state = 0)"
   ]
  },
  {
   "cell_type": "code",
   "execution_count": 17,
   "id": "4f711cbf",
   "metadata": {
    "scrolled": false
   },
   "outputs": [
    {
     "data": {
      "text/plain": [
       "LogisticRegression(random_state=0)"
      ]
     },
     "execution_count": 17,
     "metadata": {},
     "output_type": "execute_result"
    }
   ],
   "source": [
    "model.fit(features, data_train.toxic)"
   ]
  },
  {
   "cell_type": "code",
   "execution_count": 18,
   "id": "ff7ba309",
   "metadata": {
    "scrolled": false
   },
   "outputs": [
    {
     "data": {
      "text/plain": [
       "array([0], dtype=int64)"
      ]
     },
     "execution_count": 18,
     "metadata": {},
     "output_type": "execute_result"
    }
   ],
   "source": [
    "model.predict(features[112])"
   ]
  },
  {
   "cell_type": "code",
   "execution_count": 19,
   "id": "1cd58b2c",
   "metadata": {
    "scrolled": true
   },
   "outputs": [
    {
     "data": {
      "text/plain": [
       "0"
      ]
     },
     "execution_count": 19,
     "metadata": {},
     "output_type": "execute_result"
    }
   ],
   "source": [
    "data_train.iloc[112].toxic"
   ]
  },
  {
   "cell_type": "markdown",
   "id": "98212bc4",
   "metadata": {},
   "source": [
    "It is not very convinient as it could be... Let us make pipeline!"
   ]
  },
  {
   "cell_type": "code",
   "execution_count": 20,
   "id": "a7d60808",
   "metadata": {},
   "outputs": [],
   "source": [
    "model_pipeline = Pipeline([\n",
    "    (\"vectorizer\", vectorizer),\n",
    "    (\"model\", model)\n",
    "])"
   ]
  },
  {
   "cell_type": "code",
   "execution_count": 21,
   "id": "8f3bd8f4",
   "metadata": {
    "scrolled": true
   },
   "outputs": [
    {
     "data": {
      "text/plain": [
       "Pipeline(steps=[('vectorizer',\n",
       "                 TfidfVectorizer(tokenizer=<function <lambda> at 0x000002C139832940>)),\n",
       "                ('model', LogisticRegression(random_state=0))])"
      ]
     },
     "execution_count": 21,
     "metadata": {},
     "output_type": "execute_result"
    }
   ],
   "source": [
    "model_pipeline.fit(data_train.comment, data_train.toxic)"
   ]
  },
  {
   "cell_type": "markdown",
   "id": "61e86e90",
   "metadata": {},
   "source": [
    "After learning step, let's check if the model works correctly"
   ]
  },
  {
   "cell_type": "code",
   "execution_count": 22,
   "id": "5f587eaf",
   "metadata": {},
   "outputs": [
    {
     "data": {
      "text/plain": [
       "array([0], dtype=int64)"
      ]
     },
     "execution_count": 22,
     "metadata": {},
     "output_type": "execute_result"
    }
   ],
   "source": [
    "model_pipeline.predict([\"Как у тебя дела, друг мой?\"])"
   ]
  },
  {
   "cell_type": "code",
   "execution_count": 23,
   "id": "4ccb627a",
   "metadata": {},
   "outputs": [
    {
     "data": {
      "text/plain": [
       "array([1], dtype=int64)"
      ]
     },
     "execution_count": 23,
     "metadata": {},
     "output_type": "execute_result"
    }
   ],
   "source": [
    "model_pipeline.predict([\"Я ненавижу тебя\"])"
   ]
  },
  {
   "cell_type": "markdown",
   "id": "08a05f31",
   "metadata": {},
   "source": [
    "Now we have reached correctly working model. Our next step is to find out some metrics of the model."
   ]
  },
  {
   "cell_type": "code",
   "execution_count": 24,
   "id": "b188666e",
   "metadata": {},
   "outputs": [
    {
     "data": {
      "text/plain": [
       "0.90875"
      ]
     },
     "execution_count": 24,
     "metadata": {},
     "output_type": "execute_result"
    }
   ],
   "source": [
    "precision_score(y_true=data_test.toxic, y_pred=model_pipeline.predict(data_test.comment))"
   ]
  },
  {
   "cell_type": "code",
   "execution_count": 25,
   "id": "6ca3b0c3",
   "metadata": {},
   "outputs": [
    {
     "data": {
      "text/plain": [
       "0.6058333333333333"
      ]
     },
     "execution_count": 25,
     "metadata": {},
     "output_type": "execute_result"
    }
   ],
   "source": [
    "recall_score(y_true=data_test.toxic, y_pred=model_pipeline.predict(data_test.comment))"
   ]
  },
  {
   "cell_type": "markdown",
   "id": "a73db595",
   "metadata": {},
   "source": [
    "We need precision to be above 0.95"
   ]
  },
  {
   "cell_type": "markdown",
   "id": "068bd597",
   "metadata": {},
   "source": [
    "    Let us make it happen:"
   ]
  },
  {
   "cell_type": "code",
   "execution_count": 26,
   "id": "07c65b08",
   "metadata": {},
   "outputs": [],
   "source": [
    "prec, rec, thresholds = precision_recall_curve(y_true=data_test.toxic, probas_pred=model_pipeline.predict_proba(data_test.comment)[:,1])"
   ]
  },
  {
   "cell_type": "code",
   "execution_count": 27,
   "id": "b154b03c",
   "metadata": {},
   "outputs": [
    {
     "data": {
      "text/plain": [
       "<sklearn.metrics._plot.precision_recall_curve.PrecisionRecallDisplay at 0x2c1376c5520>"
      ]
     },
     "execution_count": 27,
     "metadata": {},
     "output_type": "execute_result"
    },
    {
     "data": {
      "image/png": "[encoded data removed]",
      "text/plain": [
       "<Figure size 432x288 with 1 Axes>"
      ]
     },
     "metadata": {
      "needs_background": "light"
     },
     "output_type": "display_data"
    }
   ],
   "source": [
    "plot_precision_recall_curve(estimator=model_pipeline, X=data_test.comment, y=data_test.toxic)"
   ]
  },
  {
   "cell_type": "code",
   "execution_count": 28,
   "id": "33a03930",
   "metadata": {
    "scrolled": true
   },
   "outputs": [
    {
     "data": {
      "text/plain": [
       "(array([3024, 3025, 3026, 3027, 3028, 3029, 3030, 3031, 3032, 3033, 3034,\n",
       "        3035, 3036, 3037, 3038, 3039, 3040, 3041, 3042, 3043, 3044, 3045,\n",
       "        3046, 3047, 3048, 3049, 3050, 3051, 3052, 3053, 3054, 3055, 3056,\n",
       "        3057, 3058, 3059, 3060, 3061, 3062, 3063, 3064, 3065, 3066, 3067,\n",
       "        3068, 3069, 3070, 3071, 3072, 3073, 3074, 3075, 3076, 3077, 3078,\n",
       "        3079, 3080, 3081, 3082, 3083, 3084, 3085, 3086, 3087, 3088, 3089,\n",
       "        3090, 3091, 3092, 3093, 3094, 3095, 3096, 3097, 3098, 3099, 3100,\n",
       "        3101, 3102, 3103, 3104, 3105, 3106, 3107, 3108, 3109, 3110, 3111,\n",
       "        3112, 3113, 3114, 3115, 3116, 3117, 3118, 3119, 3120, 3121, 3122,\n",
       "        3123, 3124, 3125, 3126, 3127, 3128, 3129, 3130, 3131, 3132, 3133,\n",
       "        3134, 3135, 3136, 3137, 3138, 3139, 3140, 3141, 3142, 3143, 3144,\n",
       "        3145, 3146, 3147, 3148, 3149, 3150, 3151, 3152, 3153, 3154, 3155,\n",
       "        3156, 3157, 3158, 3159, 3160, 3161, 3162, 3163, 3164, 3165, 3166,\n",
       "        3167, 3168, 3169, 3170, 3171, 3172, 3173, 3174, 3175, 3176, 3177,\n",
       "        3178, 3179, 3180, 3181, 3182, 3183, 3184, 3185, 3186, 3187, 3188,\n",
       "        3189, 3190, 3191, 3192, 3193, 3194, 3195, 3196, 3197, 3198, 3199,\n",
       "        3200, 3201, 3202, 3203, 3204, 3205, 3206, 3207, 3208, 3209, 3210,\n",
       "        3211, 3212, 3213, 3214, 3215, 3216, 3217, 3218, 3219, 3220, 3221,\n",
       "        3222, 3223, 3224, 3225, 3226, 3227, 3228, 3229, 3230, 3231, 3232,\n",
       "        3233, 3234, 3235, 3236, 3237, 3238, 3239, 3240, 3241, 3242, 3243,\n",
       "        3244, 3245, 3246, 3247, 3248, 3249, 3250, 3251, 3252, 3253, 3254,\n",
       "        3255, 3256, 3257, 3258, 3259, 3260, 3261, 3262, 3263, 3264, 3265,\n",
       "        3266, 3267, 3268, 3269, 3270, 3271, 3272, 3273, 3274, 3275, 3276,\n",
       "        3277, 3278, 3279, 3280, 3281, 3282, 3283, 3284, 3285, 3286, 3287,\n",
       "        3288, 3289, 3290, 3291, 3292, 3293, 3294, 3295, 3296, 3297, 3298,\n",
       "        3299, 3300, 3301, 3302, 3303, 3304, 3305, 3306, 3307, 3308, 3309,\n",
       "        3310, 3311, 3312, 3313, 3314, 3315, 3316, 3317, 3318, 3319, 3320,\n",
       "        3321, 3322, 3323, 3324, 3325, 3326, 3327, 3328, 3329, 3330, 3331,\n",
       "        3332, 3333, 3334, 3335, 3336, 3337, 3338, 3339, 3340, 3341, 3342,\n",
       "        3343, 3344, 3345, 3346, 3347, 3348, 3349, 3350, 3351, 3352, 3353,\n",
       "        3354, 3355, 3356, 3357, 3358, 3359, 3360, 3361, 3362, 3363, 3364,\n",
       "        3365, 3366, 3367, 3368, 3369, 3370, 3371, 3372, 3373, 3374, 3375,\n",
       "        3376, 3377, 3378, 3379, 3380, 3381, 3382, 3383, 3384, 3385, 3386,\n",
       "        3387, 3388, 3389, 3390, 3391, 3392, 3393, 3394, 3395, 3396, 3397,\n",
       "        3398, 3399, 3400, 3401, 3402, 3403, 3404, 3405, 3406, 3407, 3408,\n",
       "        3409, 3410, 3411, 3412, 3413, 3414, 3415, 3416, 3417, 3418, 3419,\n",
       "        3420, 3421, 3422, 3423, 3424, 3425, 3426, 3427, 3428, 3429, 3430,\n",
       "        3431, 3432, 3433, 3434, 3435, 3436, 3437, 3438, 3439, 3440, 3441,\n",
       "        3442, 3443, 3444, 3445, 3446, 3447, 3448, 3449, 3450, 3451, 3452,\n",
       "        3453, 3454, 3455, 3456, 3457, 3458, 3459, 3460, 3461, 3462, 3463,\n",
       "        3464, 3465, 3466, 3467, 3468, 3469, 3470, 3471, 3472, 3473, 3474,\n",
       "        3475, 3476, 3477, 3478, 3479, 3480, 3481, 3482, 3483, 3484, 3485,\n",
       "        3486, 3487, 3488, 3489, 3490, 3491, 3492, 3493, 3494, 3495, 3496,\n",
       "        3497, 3498, 3499, 3500, 3501, 3502, 3503, 3504, 3505, 3506, 3507,\n",
       "        3508, 3509, 3510, 3511, 3512, 3513, 3514, 3515], dtype=int64),)"
      ]
     },
     "execution_count": 28,
     "metadata": {},
     "output_type": "execute_result"
    }
   ],
   "source": [
    "np.where(prec>0.95)"
   ]
  },
  {
   "cell_type": "code",
   "execution_count": 29,
   "id": "f4581c61",
   "metadata": {
    "scrolled": true
   },
   "outputs": [
    {
     "data": {
      "text/plain": [
       "0.9513184584178499"
      ]
     },
     "execution_count": 29,
     "metadata": {},
     "output_type": "execute_result"
    }
   ],
   "source": [
    "precision_score(y_true=data_test.toxic, y_pred=model_pipeline.predict_proba(data_test.comment)[:, 1]>thresholds[3024])"
   ]
  },
  {
   "cell_type": "code",
   "execution_count": 30,
   "id": "0fe86945",
   "metadata": {
    "scrolled": true
   },
   "outputs": [
    {
     "data": {
      "text/plain": [
       "0.3908333333333333"
      ]
     },
     "execution_count": 30,
     "metadata": {},
     "output_type": "execute_result"
    }
   ],
   "source": [
    "recall_score(y_true=data_test.toxic, y_pred=model_pipeline.predict_proba(data_test.comment)[:, 1]>thresholds[3024])"
   ]
  },
  {
   "cell_type": "markdown",
   "id": "7a333d67",
   "metadata": {},
   "source": [
    "Here we need to get some improvements in recall metrics, so let's use GridSearch"
   ]
  },
  {
   "cell_type": "code",
   "execution_count": 31,
   "id": "39115040",
   "metadata": {},
   "outputs": [],
   "source": [
    "grid_pipeline = Pipeline([\n",
    "    (\"vectorizer\", TfidfVectorizer(tokenizer=lambda x: tokenize_and_stem_sentence(x))),\n",
    "    (\"model\", GridSearchCV(LogisticRegression(random_state=0), param_grid={'C':[0.1, 1, 10.]},\n",
    "                          cv=3, verbose=4))\n",
    "])"
   ]
  },
  {
   "cell_type": "code",
   "execution_count": 32,
   "id": "b81b7584",
   "metadata": {},
   "outputs": [
    {
     "name": "stdout",
     "output_type": "stream",
     "text": [
      "Fitting 3 folds for each of 3 candidates, totalling 9 fits\n",
      "[CV 1/3] END .............................C=0.1;, score=0.676 total time=   0.0s\n",
      "[CV 2/3] END .............................C=0.1;, score=0.677 total time=   0.1s\n",
      "[CV 3/3] END .............................C=0.1;, score=0.676 total time=   0.0s\n",
      "[CV 1/3] END ...............................C=1;, score=0.817 total time=   0.3s\n",
      "[CV 2/3] END ...............................C=1;, score=0.836 total time=   0.1s\n",
      "[CV 3/3] END ...............................C=1;, score=0.823 total time=   0.2s\n"
     ]
    },
    {
     "name": "stderr",
     "output_type": "stream",
     "text": [
      "c:\\users\\msi\\appdata\\local\\programs\\python\\python39\\lib\\site-packages\\sklearn\\linear_model\\_logistic.py:763: ConvergenceWarning: lbfgs failed to converge (status=1):\n",
      "STOP: TOTAL NO. of ITERATIONS REACHED LIMIT.\n",
      "\n",
      "Increase the number of iterations (max_iter) or scale the data as shown in:\n",
      "    https://scikit-learn.org/stable/modules/preprocessing.html\n",
      "Please also refer to the documentation for alternative solver options:\n",
      "    https://scikit-learn.org/stable/modules/linear_model.html#logistic-regression\n",
      "  n_iter_i = _check_optimize_result(\n"
     ]
    },
    {
     "name": "stdout",
     "output_type": "stream",
     "text": [
      "[CV 1/3] END ............................C=10.0;, score=0.854 total time=   0.5s\n"
     ]
    },
    {
     "name": "stderr",
     "output_type": "stream",
     "text": [
      "c:\\users\\msi\\appdata\\local\\programs\\python\\python39\\lib\\site-packages\\sklearn\\linear_model\\_logistic.py:763: ConvergenceWarning: lbfgs failed to converge (status=1):\n",
      "STOP: TOTAL NO. of ITERATIONS REACHED LIMIT.\n",
      "\n",
      "Increase the number of iterations (max_iter) or scale the data as shown in:\n",
      "    https://scikit-learn.org/stable/modules/preprocessing.html\n",
      "Please also refer to the documentation for alternative solver options:\n",
      "    https://scikit-learn.org/stable/modules/linear_model.html#logistic-regression\n",
      "  n_iter_i = _check_optimize_result(\n"
     ]
    },
    {
     "name": "stdout",
     "output_type": "stream",
     "text": [
      "[CV 2/3] END ............................C=10.0;, score=0.865 total time=   0.5s\n"
     ]
    },
    {
     "name": "stderr",
     "output_type": "stream",
     "text": [
      "c:\\users\\msi\\appdata\\local\\programs\\python\\python39\\lib\\site-packages\\sklearn\\linear_model\\_logistic.py:763: ConvergenceWarning: lbfgs failed to converge (status=1):\n",
      "STOP: TOTAL NO. of ITERATIONS REACHED LIMIT.\n",
      "\n",
      "Increase the number of iterations (max_iter) or scale the data as shown in:\n",
      "    https://scikit-learn.org/stable/modules/preprocessing.html\n",
      "Please also refer to the documentation for alternative solver options:\n",
      "    https://scikit-learn.org/stable/modules/linear_model.html#logistic-regression\n",
      "  n_iter_i = _check_optimize_result(\n"
     ]
    },
    {
     "name": "stdout",
     "output_type": "stream",
     "text": [
      "[CV 3/3] END ............................C=10.0;, score=0.858 total time=   0.4s\n"
     ]
    },
    {
     "name": "stderr",
     "output_type": "stream",
     "text": [
      "c:\\users\\msi\\appdata\\local\\programs\\python\\python39\\lib\\site-packages\\sklearn\\linear_model\\_logistic.py:763: ConvergenceWarning: lbfgs failed to converge (status=1):\n",
      "STOP: TOTAL NO. of ITERATIONS REACHED LIMIT.\n",
      "\n",
      "Increase the number of iterations (max_iter) or scale the data as shown in:\n",
      "    https://scikit-learn.org/stable/modules/preprocessing.html\n",
      "Please also refer to the documentation for alternative solver options:\n",
      "    https://scikit-learn.org/stable/modules/linear_model.html#logistic-regression\n",
      "  n_iter_i = _check_optimize_result(\n"
     ]
    },
    {
     "data": {
      "text/plain": [
       "Pipeline(steps=[('vectorizer',\n",
       "                 TfidfVectorizer(tokenizer=<function <lambda> at 0x000002C139832160>)),\n",
       "                ('model',\n",
       "                 GridSearchCV(cv=3,\n",
       "                              estimator=LogisticRegression(random_state=0),\n",
       "                              param_grid={'C': [0.1, 1, 10.0]}, verbose=4))])"
      ]
     },
     "execution_count": 32,
     "metadata": {},
     "output_type": "execute_result"
    }
   ],
   "source": [
    "grid_pipeline.fit(data_train.comment, data_train.toxic)"
   ]
  },
  {
   "cell_type": "code",
   "execution_count": 33,
   "id": "b644ca1c",
   "metadata": {},
   "outputs": [],
   "source": [
    "model_pipeline_c_10 = Pipeline([\n",
    "    (\"vectorizer\", vectorizer),\n",
    "    (\"model\", LogisticRegression(random_state=0, C=10.))\n",
    "])"
   ]
  },
  {
   "cell_type": "code",
   "execution_count": 34,
   "id": "d078ff64",
   "metadata": {},
   "outputs": [
    {
     "name": "stderr",
     "output_type": "stream",
     "text": [
      "c:\\users\\msi\\appdata\\local\\programs\\python\\python39\\lib\\site-packages\\sklearn\\linear_model\\_logistic.py:763: ConvergenceWarning: lbfgs failed to converge (status=1):\n",
      "STOP: TOTAL NO. of ITERATIONS REACHED LIMIT.\n",
      "\n",
      "Increase the number of iterations (max_iter) or scale the data as shown in:\n",
      "    https://scikit-learn.org/stable/modules/preprocessing.html\n",
      "Please also refer to the documentation for alternative solver options:\n",
      "    https://scikit-learn.org/stable/modules/linear_model.html#logistic-regression\n",
      "  n_iter_i = _check_optimize_result(\n"
     ]
    },
    {
     "data": {
      "text/plain": [
       "Pipeline(steps=[('vectorizer',\n",
       "                 TfidfVectorizer(tokenizer=<function <lambda> at 0x000002C139832940>)),\n",
       "                ('model', LogisticRegression(C=10.0, random_state=0))])"
      ]
     },
     "execution_count": 34,
     "metadata": {},
     "output_type": "execute_result"
    }
   ],
   "source": [
    "model_pipeline_c_10.fit(data_train.comment, data_train.toxic)"
   ]
  },
  {
   "cell_type": "code",
   "execution_count": 35,
   "id": "4db70fb6",
   "metadata": {},
   "outputs": [],
   "source": [
    "prec_c_10, rec_c_10, thresholds_c_10 = precision_recall_curve(y_true=data_test.toxic, probas_pred=model_pipeline_c_10 .predict_proba(data_test.comment)[:,1])"
   ]
  },
  {
   "cell_type": "code",
   "execution_count": 36,
   "id": "12abd8e6",
   "metadata": {},
   "outputs": [
    {
     "data": {
      "text/plain": [
       "(array([2932, 2937, 2938, 2939, 2940, 2941, 2942, 2943, 2944, 2945, 2946,\n",
       "        2947, 2948, 2949, 2950, 2951, 2952, 2953, 2954, 2955, 2956, 2957,\n",
       "        2958, 2959, 2960, 2961, 2962, 2963, 2964, 2965, 2966, 2967, 2968,\n",
       "        2969, 2970, 2971, 2972, 2973, 2974, 2975, 2976, 2977, 2978, 2979,\n",
       "        2980, 2981, 2982, 2983, 2984, 2985, 2986, 2987, 2988, 2989, 2990,\n",
       "        2991, 2992, 2993, 2994, 2995, 2996, 2997, 2998, 2999, 3000, 3001,\n",
       "        3002, 3003, 3004, 3005, 3006, 3007, 3008, 3009, 3010, 3011, 3012,\n",
       "        3013, 3014, 3015, 3016, 3017, 3018, 3019, 3020, 3021, 3022, 3023,\n",
       "        3024, 3025, 3026, 3027, 3028, 3029, 3030, 3031, 3032, 3033, 3034,\n",
       "        3035, 3036, 3037, 3038, 3039, 3040, 3041, 3042, 3043, 3044, 3045,\n",
       "        3046, 3047, 3048, 3049, 3050, 3051, 3052, 3053, 3054, 3055, 3056,\n",
       "        3057, 3058, 3059, 3060, 3061, 3062, 3063, 3064, 3065, 3066, 3067,\n",
       "        3068, 3069, 3070, 3071, 3072, 3073, 3074, 3075, 3076, 3077, 3078,\n",
       "        3079, 3080, 3081, 3082, 3083, 3084, 3085, 3086, 3087, 3088, 3089,\n",
       "        3090, 3091, 3092, 3093, 3094, 3095, 3096, 3097, 3098, 3099, 3100,\n",
       "        3101, 3102, 3103, 3104, 3105, 3106, 3107, 3108, 3109, 3110, 3111,\n",
       "        3112, 3113, 3114, 3115, 3116, 3117, 3118, 3119, 3120, 3121, 3122,\n",
       "        3123, 3124, 3125, 3126, 3127, 3128, 3129, 3130, 3131, 3132, 3133,\n",
       "        3134, 3135, 3136, 3137, 3138, 3139, 3140, 3141, 3142, 3143, 3144,\n",
       "        3145, 3146, 3147, 3148, 3149, 3150, 3151, 3152, 3153, 3154, 3155,\n",
       "        3156, 3157, 3158, 3159, 3160, 3161, 3162, 3163, 3164, 3165, 3166,\n",
       "        3167, 3168, 3169, 3170, 3171, 3172, 3173, 3174, 3175, 3176, 3177,\n",
       "        3178, 3179, 3180, 3181, 3182, 3183, 3184, 3185, 3186, 3187, 3188,\n",
       "        3189, 3190, 3191, 3192, 3193, 3194, 3195, 3196, 3197, 3198, 3199,\n",
       "        3200, 3201, 3202, 3203, 3204, 3205, 3206, 3207, 3208, 3209, 3210,\n",
       "        3211, 3212, 3213, 3214, 3215, 3216, 3217, 3218, 3219, 3220, 3221,\n",
       "        3222, 3223, 3224, 3225, 3226, 3227, 3228, 3229, 3230, 3231, 3232,\n",
       "        3233, 3234, 3235, 3236, 3237, 3238, 3239, 3240, 3241, 3242, 3243,\n",
       "        3244, 3245, 3246, 3247, 3248, 3249, 3250, 3251, 3252, 3253, 3254,\n",
       "        3255, 3256, 3257, 3258, 3259, 3260, 3261, 3262, 3263, 3264, 3265,\n",
       "        3266, 3267, 3268, 3269, 3270, 3271, 3272, 3273, 3274, 3275, 3276,\n",
       "        3277, 3278, 3279, 3280, 3281, 3282, 3283, 3284, 3285, 3286, 3287,\n",
       "        3288, 3289, 3290, 3291, 3292, 3293, 3294, 3295, 3296, 3297, 3298,\n",
       "        3299, 3300, 3301, 3302, 3303, 3304, 3305, 3306, 3307, 3308, 3309,\n",
       "        3310, 3311, 3312, 3313, 3314, 3315, 3316, 3317, 3318, 3319, 3320,\n",
       "        3321, 3322, 3323, 3324, 3325, 3326, 3327, 3328, 3329, 3330, 3331,\n",
       "        3332, 3333, 3334, 3335, 3336, 3337, 3338, 3339, 3340, 3341, 3342,\n",
       "        3343, 3344, 3345, 3346, 3347, 3348, 3349, 3350, 3351, 3352, 3353,\n",
       "        3354, 3355, 3356, 3357, 3358, 3359, 3360, 3361, 3362, 3363, 3364,\n",
       "        3365, 3366, 3367, 3368, 3369, 3370, 3371, 3372, 3373, 3374, 3375,\n",
       "        3376, 3377, 3378, 3379, 3380, 3381, 3382, 3383, 3384, 3385, 3386,\n",
       "        3387, 3388, 3389, 3390, 3391, 3392, 3393, 3394, 3395, 3396, 3397,\n",
       "        3398, 3399, 3400, 3401, 3402, 3403, 3404, 3405, 3406, 3407, 3408,\n",
       "        3409, 3410, 3411, 3412, 3413, 3414, 3415, 3416, 3417, 3418, 3419,\n",
       "        3420, 3421, 3422, 3423, 3424, 3425, 3426, 3427, 3428, 3429, 3430,\n",
       "        3431, 3432, 3433, 3434, 3435, 3436, 3437, 3438, 3439, 3440, 3441,\n",
       "        3442, 3443, 3444, 3445, 3446, 3447, 3448, 3449, 3450, 3451, 3452,\n",
       "        3453, 3454, 3455, 3456, 3457, 3458, 3459, 3460, 3461, 3462, 3463,\n",
       "        3464, 3465, 3466, 3467, 3468, 3469, 3470, 3471, 3472, 3473, 3474,\n",
       "        3475, 3476, 3477, 3478, 3479, 3480, 3481, 3482, 3483, 3484, 3485,\n",
       "        3486, 3487, 3488, 3489, 3490], dtype=int64),)"
      ]
     },
     "execution_count": 36,
     "metadata": {},
     "output_type": "execute_result"
    }
   ],
   "source": [
    "np.where(prec_c_10>0.95)"
   ]
  },
  {
   "cell_type": "code",
   "execution_count": 37,
   "id": "a808eadc",
   "metadata": {},
   "outputs": [
    {
     "data": {
      "text/plain": [
       "0.95"
      ]
     },
     "execution_count": 37,
     "metadata": {},
     "output_type": "execute_result"
    }
   ],
   "source": [
    "precision_score(y_true=data_test.toxic, y_pred=model_pipeline_c_10.predict_proba(data_test.comment)[:, 1]>thresholds_c_10[2932])"
   ]
  },
  {
   "cell_type": "code",
   "execution_count": 38,
   "id": "6ddeeeeb",
   "metadata": {},
   "outputs": [
    {
     "data": {
      "text/plain": [
       "0.44333333333333336"
      ]
     },
     "execution_count": 38,
     "metadata": {},
     "output_type": "execute_result"
    }
   ],
   "source": [
    "recall_score(y_true=data_test.toxic, y_pred=model_pipeline_c_10.predict_proba(data_test.comment)[:, 1]>thresholds_c_10[2932])"
   ]
  },
  {
   "cell_type": "markdown",
   "id": "ac8d120a",
   "metadata": {},
   "source": [
    "!We've got working model (model_pipeline_c_10)!"
   ]
  },
  {
   "cell_type": "code",
   "execution_count": 39,
   "id": "eaf19a09",
   "metadata": {},
   "outputs": [
    {
     "data": {
      "text/plain": [
       "array([0], dtype=int64)"
      ]
     },
     "execution_count": 39,
     "metadata": {},
     "output_type": "execute_result"
    }
   ],
   "source": [
    "model_pipeline_c_10.predict([\"Я люблю тебя\"])"
   ]
  },
  {
   "cell_type": "code",
   "execution_count": 40,
   "id": "ca80b22a",
   "metadata": {},
   "outputs": [
    {
     "data": {
      "text/plain": [
       "array([1], dtype=int64)"
      ]
     },
     "execution_count": 40,
     "metadata": {},
     "output_type": "execute_result"
    }
   ],
   "source": [
    "model_pipeline.predict([\"Чел, ты очень странный тип, тебе бы в психушку\"])"
   ]
  }
 ],
 "metadata": {
  "kernelspec": {
   "display_name": "Python 3",
   "language": "python",
   "name": "python3"
  },
  "language_info": {
   "codemirror_mode": {
    "name": "ipython",
    "version": 3
   },
   "file_extension": ".py",
   "mimetype": "text/x-python",
   "name": "python",
   "nbconvert_exporter": "python",
   "pygments_lexer": "ipython3",
   "version": "3.9.4"
  }
 },
 "nbformat": 4,
 "nbformat_minor": 5
}
